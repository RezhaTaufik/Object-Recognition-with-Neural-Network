{
  "nbformat": 4,
  "nbformat_minor": 0,
  "metadata": {
    "colab": {
      "provenance": [],
      "authorship_tag": "ABX9TyMSU4XgJx101019jOrisc7I"
    },
    "kernelspec": {
      "name": "python3",
      "display_name": "Python 3"
    },
    "language_info": {
      "name": "python"
    }
  },
  "cells": [
    {
      "cell_type": "markdown",
      "source": [
        "**Dataset**\n",
        "\n",
        "Mengklasifikasikan 10 object sehari-hari menggunakan [CIFAR Image Dataset](https://www.cs.toronto.edu/~kriz/cifar.html)\n",
        "List Objek :\n",
        "- Airplane\n",
        "- Automobile\n",
        "- Bird\n",
        "- Cat\n",
        "- Deer\n",
        "- Dog\n",
        "- Frog\n",
        "- Horse\n",
        "- Ship\n",
        "- Truck"
      ],
      "metadata": {
        "id": "IZ8aPSTYC8e0"
      }
    },
    {
      "cell_type": "code",
      "source": [
        "import tensorflow as tf\n",
        "from tensorflow.keras import datasets,layers,models\n",
        "import matplotlib.pyplot as plt"
      ],
      "metadata": {
        "id": "iKrPu4JJDyWw"
      },
      "execution_count": 5,
      "outputs": []
    },
    {
      "cell_type": "code",
      "source": [
        "(train_images, train_labels), (test_images, test_labels) = datasets.cifar10.load_data() # Load Dataset\n",
        "\n",
        "train_images, test_images = train_images / 255.0, test_images / 255.0 # Nilai pixel akan menjadi 0 atau 1\n",
        "\n",
        "class_names = ['airplane','automobiler','bird','cat','deer','dog','frog','horse','ship','truck']\n"
      ],
      "metadata": {
        "colab": {
          "base_uri": "https://localhost:8080/"
        },
        "id": "6J_icLsyEHdY",
        "outputId": "3632c51f-55e6-4cdd-bfa4-77b887a55871"
      },
      "execution_count": 6,
      "outputs": [
        {
          "output_type": "stream",
          "name": "stdout",
          "text": [
            "Downloading data from https://www.cs.toronto.edu/~kriz/cifar-10-python.tar.gz\n",
            "170498071/170498071 [==============================] - 2s 0us/step\n"
          ]
        }
      ]
    },
    {
      "cell_type": "code",
      "source": [
        "IMG_INDEX = 6 # Ubah untuk mengganti gambar \n",
        "\n",
        "plt.imshow(train_images[IMG_INDEX], cmap=plt.cm.binary)\n",
        "plt.xlabel(class_names[train_labels[IMG_INDEX][0]])\n",
        "plt.show()"
      ],
      "metadata": {
        "colab": {
          "base_uri": "https://localhost:8080/",
          "height": 280
        },
        "id": "cWzF5iEqE5hg",
        "outputId": "77ee78c6-1c5b-42fc-a118-ed2279909138"
      },
      "execution_count": 7,
      "outputs": [
        {
          "output_type": "display_data",
          "data": {
            "text/plain": [
              "<Figure size 432x288 with 1 Axes>"
            ],
            "image/png": "[encoded data removed]"
          },
          "metadata": {
            "needs_background": "light"
          }
        }
      ]
    },
    {
      "cell_type": "markdown",
      "source": [
        "**Arsitektur CNN**\n",
        "\n",
        "A stack of Conv2D and MaxPooling2D layers yang diikuti oleh Densely Connected Layers (DCL). Stack akan digunakan untuk mengekstrak fitur dari citra. Fitur kemudian di berikan ke DCL untuk menentukan class citra berdasarkan fitur tadi\n",
        "\n",
        "Membangun Convolutional Base"
      ],
      "metadata": {
        "id": "c0WVDi-YGYHn"
      }
    },
    {
      "cell_type": "code",
      "source": [
        "model = models.Sequential()\n",
        "model.add(layers.Conv2D(32,(3,3), activation='relu', input_shape = (32,32,3)))\n",
        "model.add(layers.MaxPooling2D((2,2)))\n",
        "model.add(layers.Conv2D(64, (3,3), activation='relu'))\n",
        "model.add(layers.MaxPooling2D((2,2)))\n",
        "model.add(layers.Conv2D(64, (3,3), activation='relu'))\n",
        "    \n",
        "    \n",
        "    \n"
      ],
      "metadata": {
        "id": "gkBiZfPXHE2W"
      },
      "execution_count": 8,
      "outputs": []
    },
    {
      "cell_type": "markdown",
      "source": [
        "Layer 1 : Define 32 Filters dengan size 3x3 untuk input data dengan fungsi aktivasi relu untuk setiap operasi konvolusi \n",
        "\n",
        "Layer 2 : Melakukan Max Pooling menggunakan sampel 2x2 dan Stride = 2\n",
        "\n",
        "Other Layer : Menaikkan depth filter menjadi 64 karena data mengecil ketika berada di layer spacial. Layer ini mirip seperti layer 1 dan 2 hanya saja mengambil input feature map dari layer sebelumnya. disini akan dilakukan flatten, yakni mengambil sample 64 menjadi 1 dimensi (1 kolom saja)"
      ],
      "metadata": {
        "id": "ntUfNuzJIiQt"
      }
    },
    {
      "cell_type": "code",
      "source": [
        "model.summary()"
      ],
      "metadata": {
        "colab": {
          "base_uri": "https://localhost:8080/"
        },
        "id": "I42SpUCuJj5a",
        "outputId": "c66dbefa-dc88-4d7e-a9c5-fab35da5dc07"
      },
      "execution_count": 9,
      "outputs": [
        {
          "output_type": "stream",
          "name": "stdout",
          "text": [
            "Model: \"sequential\"\n",
            "_________________________________________________________________\n",
            " Layer (type)                Output Shape              Param #   \n",
            "=================================================================\n",
            " conv2d (Conv2D)             (None, 30, 30, 32)        896       \n",
            "                                                                 \n",
            " max_pooling2d (MaxPooling2D  (None, 15, 15, 32)       0         \n",
            " )                                                               \n",
            "                                                                 \n",
            " conv2d_1 (Conv2D)           (None, 13, 13, 64)        18496     \n",
            "                                                                 \n",
            " max_pooling2d_1 (MaxPooling  (None, 6, 6, 64)         0         \n",
            " 2D)                                                             \n",
            "                                                                 \n",
            " conv2d_2 (Conv2D)           (None, 4, 4, 64)          36928     \n",
            "                                                                 \n",
            "=================================================================\n",
            "Total params: 56,320\n",
            "Trainable params: 56,320\n",
            "Non-trainable params: 0\n",
            "_________________________________________________________________\n"
          ]
        }
      ]
    },
    {
      "cell_type": "markdown",
      "source": [
        "Dari hasil diatas dapat dilihat Depth Image naik sementara spacial dimensions berkurang drastis"
      ],
      "metadata": {
        "id": "4FNOguIQJx7_"
      }
    },
    {
      "cell_type": "markdown",
      "source": [
        "**Menambahkan Dense Layer**\n",
        "\n",
        "Setelah fitur di ekstraksi, kita akan mengklasifikasikannya menggunakan Dense Layer."
      ],
      "metadata": {
        "id": "ZMwvki5iKYBm"
      }
    },
    {
      "cell_type": "code",
      "source": [
        "model.add(layers.Flatten())\n",
        "model.add(layers.Dense(64, activation='relu'))\n",
        "model.add(layers.Dense(10))"
      ],
      "metadata": {
        "id": "S-N7mrk5Kq4z"
      },
      "execution_count": 10,
      "outputs": []
    },
    {
      "cell_type": "code",
      "source": [
        "model.summary()"
      ],
      "metadata": {
        "colab": {
          "base_uri": "https://localhost:8080/"
        },
        "id": "zIwImQOgK5bU",
        "outputId": "d146b2b9-19dd-437c-b0ed-7d05be8ad22a"
      },
      "execution_count": 11,
      "outputs": [
        {
          "output_type": "stream",
          "name": "stdout",
          "text": [
            "Model: \"sequential\"\n",
            "_________________________________________________________________\n",
            " Layer (type)                Output Shape              Param #   \n",
            "=================================================================\n",
            " conv2d (Conv2D)             (None, 30, 30, 32)        896       \n",
            "                                                                 \n",
            " max_pooling2d (MaxPooling2D  (None, 15, 15, 32)       0         \n",
            " )                                                               \n",
            "                                                                 \n",
            " conv2d_1 (Conv2D)           (None, 13, 13, 64)        18496     \n",
            "                                                                 \n",
            " max_pooling2d_1 (MaxPooling  (None, 6, 6, 64)         0         \n",
            " 2D)                                                             \n",
            "                                                                 \n",
            " conv2d_2 (Conv2D)           (None, 4, 4, 64)          36928     \n",
            "                                                                 \n",
            " flatten (Flatten)           (None, 1024)              0         \n",
            "                                                                 \n",
            " dense (Dense)               (None, 64)                65600     \n",
            "                                                                 \n",
            " dense_1 (Dense)             (None, 10)                650       \n",
            "                                                                 \n",
            "=================================================================\n",
            "Total params: 122,570\n",
            "Trainable params: 122,570\n",
            "Non-trainable params: 0\n",
            "_________________________________________________________________\n"
          ]
        }
      ]
    },
    {
      "cell_type": "markdown",
      "source": [
        "Ketika di flatten, shape akan berubah dan diikuti 10 neurons sebagai output. 10 neurons karena setiap kelas adalah 1 neuron"
      ],
      "metadata": {
        "id": "yCGFMuXnLWIy"
      }
    },
    {
      "cell_type": "code",
      "source": [
        "model.compile(optimizer = 'adam',\n",
        "              loss = tf.keras.losses.SparseCategoricalCrossentropy(from_logits=True),\n",
        "              metrics = ['accuracy'])\n",
        "\n",
        "history = model.fit(train_images, train_labels, epochs=10,\n",
        "                    validation_data=(test_images, test_labels))"
      ],
      "metadata": {
        "colab": {
          "base_uri": "https://localhost:8080/"
        },
        "id": "EuikfWxGLibU",
        "outputId": "ef258014-3ffe-45ed-9db2-54f46dcd8285"
      },
      "execution_count": 12,
      "outputs": [
        {
          "output_type": "stream",
          "name": "stdout",
          "text": [
            "Epoch 1/10\n",
            "1563/1563 [==============================] - 75s 47ms/step - loss: 1.5395 - accuracy: 0.4384 - val_loss: 1.2820 - val_accuracy: 0.5384\n",
            "Epoch 2/10\n",
            "1563/1563 [==============================] - 72s 46ms/step - loss: 1.1476 - accuracy: 0.5923 - val_loss: 1.1210 - val_accuracy: 0.6074\n",
            "Epoch 3/10\n",
            "1563/1563 [==============================] - 71s 45ms/step - loss: 1.0018 - accuracy: 0.6490 - val_loss: 0.9898 - val_accuracy: 0.6546\n",
            "Epoch 4/10\n",
            "1563/1563 [==============================] - 71s 45ms/step - loss: 0.9017 - accuracy: 0.6832 - val_loss: 0.9499 - val_accuracy: 0.6723\n",
            "Epoch 5/10\n",
            "1563/1563 [==============================] - 74s 48ms/step - loss: 0.8404 - accuracy: 0.7056 - val_loss: 0.9017 - val_accuracy: 0.6848\n",
            "Epoch 6/10\n",
            "1563/1563 [==============================] - 71s 45ms/step - loss: 0.7824 - accuracy: 0.7252 - val_loss: 0.9004 - val_accuracy: 0.6928\n",
            "Epoch 7/10\n",
            "1563/1563 [==============================] - 71s 45ms/step - loss: 0.7332 - accuracy: 0.7434 - val_loss: 0.8797 - val_accuracy: 0.7004\n",
            "Epoch 8/10\n",
            "1563/1563 [==============================] - 72s 46ms/step - loss: 0.6932 - accuracy: 0.7564 - val_loss: 0.8727 - val_accuracy: 0.7052\n",
            "Epoch 9/10\n",
            "1563/1563 [==============================] - 71s 45ms/step - loss: 0.6506 - accuracy: 0.7688 - val_loss: 0.8513 - val_accuracy: 0.7133\n",
            "Epoch 10/10\n",
            "1563/1563 [==============================] - 74s 47ms/step - loss: 0.6165 - accuracy: 0.7827 - val_loss: 0.9115 - val_accuracy: 0.7007\n"
          ]
        }
      ]
    },
    {
      "cell_type": "markdown",
      "source": [
        "**Akurasi Model**\n",
        "\n"
      ],
      "metadata": {
        "id": "3jG3FmvMME30"
      }
    },
    {
      "cell_type": "code",
      "source": [
        "test_loss, test_acc = model.evaluate(test_images, test_labels, verbose=2)\n",
        "print(test_acc)"
      ],
      "metadata": {
        "colab": {
          "base_uri": "https://localhost:8080/"
        },
        "id": "f3dIwXdXO5-g",
        "outputId": "aa81b0d4-fd06-4bc0-a417-016ae9510aeb"
      },
      "execution_count": 13,
      "outputs": [
        {
          "output_type": "stream",
          "name": "stdout",
          "text": [
            "313/313 - 4s - loss: 0.9115 - accuracy: 0.7007 - 4s/epoch - 12ms/step\n",
            "0.7006999850273132\n"
          ]
        }
      ]
    },
    {
      "cell_type": "markdown",
      "source": [
        "**Data Augmentation**\n",
        "\n",
        "Data Augmentation digunakan untuk mencegah overfitting. Data Augmentation secara sederhana adalah melakukan modifikasi kecil terhadap gambar agar dapat dibaca oleh komputer lebih mudah. seperti rotasi, kompresi, dan perubahan warna"
      ],
      "metadata": {
        "id": "DsFU01rp1gNf"
      }
    },
    {
      "cell_type": "code",
      "source": [
        "from tensorflow.keras.utils import img_to_array\n",
        "from keras.preprocessing import image\n",
        "from keras.preprocessing.image import ImageDataGenerator\n",
        "\n",
        "# membuat data generator untuk mengubah gambar \n",
        "datagen = ImageDataGenerator(\n",
        "    rotation_range = 40,\n",
        "    width_shift_range = 0.2,\n",
        "    height_shift_range = 0.2,\n",
        "    shear_range = 0.2,\n",
        "    zoom_range = 0.2,\n",
        "    horizontal_flip = True,\n",
        "    fill_mode = 'nearest'\n",
        "\n",
        ")\n",
        "\n",
        "# memilih gambar untuk di modifikasi \n",
        "test_img = train_images[11]\n",
        "img = img_to_array(test_img) # mengubah gambar ke bentuk numpy array\n",
        "img = img.reshape((1,)+ img.shape)\n",
        "\n",
        "i = 0\n",
        "\n",
        "for batch in datagen.flow(img, save_prefix = \"test\", save_format = \"jpeg\"):\n",
        "  plt.figure(i)\n",
        "  plot = plt.imshow(img_to_array(batch[0]))\n",
        "  i +=1\n",
        "  if i > 4: # menampilkan 4 buah gambar\n",
        "    break\n",
        "\n",
        "plt.show()"
      ],
      "metadata": {
        "colab": {
          "base_uri": "https://localhost:8080/",
          "height": 1000
        },
        "id": "YVKo-8Cy18I9",
        "outputId": "db1bd6f2-17f7-4f54-b16f-c0daf2ebec37"
      },
      "execution_count": 20,
      "outputs": [
        {
          "output_type": "display_data",
          "data": {
            "text/plain": [
              "<Figure size 432x288 with 1 Axes>"
            ],
            "image/png": "[encoded data removed]"
          },
          "metadata": {
            "needs_background": "light"
          }
        },
        {
          "output_type": "display_data",
          "data": {
            "text/plain": [
              "<Figure size 432x288 with 1 Axes>"
            ],
            "image/png": "[encoded data removed]"
          },
          "metadata": {
            "needs_background": "light"
          }
        },
        {
          "output_type": "display_data",
          "data": {
            "text/plain": [
              "<Figure size 432x288 with 1 Axes>"
            ],
            "image/png": "[encoded data removed]"
          },
          "metadata": {
            "needs_background": "light"
          }
        },
        {
          "output_type": "display_data",
          "data": {
            "text/plain": [
              "<Figure size 432x288 with 1 Axes>"
            ],
            "image/png": "[encoded data removed]"
          },
          "metadata": {
            "needs_background": "light"
          }
        },
        {
          "output_type": "display_data",
          "data": {
            "text/plain": [
              "<Figure size 432x288 with 1 Axes>"
            ],
            "image/png": "[encoded data removed]"
          },
          "metadata": {
            "needs_background": "light"
          }
        }
      ]
    }
  ]
}